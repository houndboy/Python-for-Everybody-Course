{
 "cells": [
  {
   "cell_type": "code",
   "execution_count": 2,
   "id": "d7322371",
   "metadata": {},
   "outputs": [
    {
     "name": "stdout",
     "output_type": "stream",
     "text": [
      "0.6676468957694928\n",
      "0.8998964831905925\n",
      "0.4500706602068636\n",
      "0.310524718634996\n",
      "0.5002631241739666\n",
      "0.23536705207778408\n",
      "0.25901841607386633\n",
      "0.10863067050021125\n",
      "0.8763534907302666\n",
      "0.9597134948726054\n"
     ]
    }
   ],
   "source": [
    "#chapter 4: functions, exercise 1 - generating psuedorandom numbers using the random module and function\n",
    "\n",
    "import random\n",
    "for i in range(10):\n",
    "    x = random.random()\n",
    "    print(x)"
   ]
  },
  {
   "cell_type": "code",
   "execution_count": 3,
   "id": "1d80d7a1",
   "metadata": {},
   "outputs": [
    {
     "name": "stdout",
     "output_type": "stream",
     "text": [
      "0.13219885684687982\n",
      "0.211395229987835\n",
      "0.02041041816672884\n",
      "0.8343693896815271\n",
      "0.7337084040289024\n",
      "0.8163220912646969\n",
      "0.48102461251152795\n",
      "0.950794632082984\n",
      "0.7040360316065865\n",
      "0.2893503671982737\n"
     ]
    }
   ],
   "source": [
    "#note: the numbers are different\n",
    "import random\n",
    "for i in range(10):\n",
    "    x = random.random()\n",
    "    print(x)    "
   ]
  },
  {
   "cell_type": "code",
   "execution_count": 4,
   "id": "c5d9dbba",
   "metadata": {},
   "outputs": [
    {
     "data": {
      "text/plain": [
       "7"
      ]
     },
     "execution_count": 4,
     "metadata": {},
     "output_type": "execute_result"
    }
   ],
   "source": [
    "#can randomly chose an integer between a low and high parameter using 'random.randint'\n",
    "random.randint(5,10)"
   ]
  },
  {
   "cell_type": "code",
   "execution_count": 5,
   "id": "71ec69b2",
   "metadata": {},
   "outputs": [
    {
     "data": {
      "text/plain": [
       "8"
      ]
     },
     "execution_count": 5,
     "metadata": {},
     "output_type": "execute_result"
    }
   ],
   "source": [
    "#note: the number is different\n",
    "random.randint(5,10)"
   ]
  },
  {
   "cell_type": "code",
   "execution_count": 6,
   "id": "62a70efc",
   "metadata": {},
   "outputs": [
    {
     "data": {
      "text/plain": [
       "0"
      ]
     },
     "execution_count": 6,
     "metadata": {},
     "output_type": "execute_result"
    }
   ],
   "source": [
    "#can randomly chose an integer from a list using 'random.choice'\n",
    "t = (0, 4, 8, 12, 16)\n",
    "random.choice(t)"
   ]
  },
  {
   "cell_type": "code",
   "execution_count": 7,
   "id": "8708e339",
   "metadata": {},
   "outputs": [
    {
     "data": {
      "text/plain": [
       "12"
      ]
     },
     "execution_count": 7,
     "metadata": {},
     "output_type": "execute_result"
    }
   ],
   "source": [
    "#note: the number is different\n",
    "t = (0, 4, 8, 12, 16)\n",
    "random.choice(t)"
   ]
  },
  {
   "cell_type": "code",
   "execution_count": 16,
   "id": "f688aa3c",
   "metadata": {},
   "outputs": [
    {
     "name": "stdout",
     "output_type": "stream",
     "text": [
      "I'm a lumberjack, and I'm okay.\n",
      "I sleep all night and I work all day.\n",
      "I'm a lumberjack, and I'm okay.\n",
      "I sleep all night and I work all day.\n"
     ]
    }
   ],
   "source": [
    "##chapter 4, exercise 2 - this is an example of a function definition\n",
    "\n",
    "def print_lyric_line():\n",
    "    print(\"I'm a lumberjack, and I'm okay.\")\n",
    "    print('I sleep all night and I work all day.')\n",
    "    \n",
    "#this is an example of a function within a function\n",
    "def repeat_lyric_line():\n",
    "    print_lyric()\n",
    "    print_lyric()\n",
    "    \n",
    "repeat_lyric_line()"
   ]
  },
  {
   "cell_type": "code",
   "execution_count": 21,
   "id": "6a08f9d1",
   "metadata": {},
   "outputs": [
    {
     "ename": "NameError",
     "evalue": "name 'repeat_lyric_line' is not defined",
     "output_type": "error",
     "traceback": [
      "\u001b[1;31m---------------------------------------------------------------------------\u001b[0m",
      "\u001b[1;31mNameError\u001b[0m                                 Traceback (most recent call last)",
      "\u001b[1;32m<ipython-input-21-2fdccd8f138c>\u001b[0m in \u001b[0;36m<module>\u001b[1;34m\u001b[0m\n\u001b[0;32m      1\u001b[0m \u001b[1;31m#exercise 2 - showing what happens (an error message) when a function call comes before defining the function\u001b[0m\u001b[1;33m\u001b[0m\u001b[1;33m\u001b[0m\u001b[1;33m\u001b[0m\u001b[0m\n\u001b[1;32m----> 2\u001b[1;33m \u001b[0mrepeat_lyric_line\u001b[0m\u001b[1;33m(\u001b[0m\u001b[1;33m)\u001b[0m\u001b[1;33m\u001b[0m\u001b[1;33m\u001b[0m\u001b[0m\n\u001b[0m\u001b[0;32m      3\u001b[0m \u001b[1;33m\u001b[0m\u001b[0m\n\u001b[0;32m      4\u001b[0m \u001b[1;32mdef\u001b[0m \u001b[0mprint_lyric_line\u001b[0m\u001b[1;33m(\u001b[0m\u001b[1;33m)\u001b[0m\u001b[1;33m:\u001b[0m\u001b[1;33m\u001b[0m\u001b[1;33m\u001b[0m\u001b[0m\n\u001b[0;32m      5\u001b[0m     \u001b[0mprint\u001b[0m\u001b[1;33m(\u001b[0m\u001b[1;34m\"I'm a lumberjack, and I'm okay.\"\u001b[0m\u001b[1;33m)\u001b[0m\u001b[1;33m\u001b[0m\u001b[1;33m\u001b[0m\u001b[0m\n",
      "\u001b[1;31mNameError\u001b[0m: name 'repeat_lyric_line' is not defined"
     ]
    }
   ],
   "source": [
    "#exercise 2 - showing what happens (an error message) when a function call comes before defining the function\n",
    "repeat_lyric_line()\n",
    "\n",
    "def print_lyric_line():\n",
    "    print(\"I'm a lumberjack, and I'm okay.\")\n",
    "    print('I sleep all night and I work all day.')\n",
    "    \n",
    "def repeat_lyric_line():\n",
    "    print_lyric_line()\n",
    "    print_lyric_line()"
   ]
  },
  {
   "cell_type": "code",
   "execution_count": 22,
   "id": "40223fa1",
   "metadata": {},
   "outputs": [
    {
     "data": {
      "text/plain": [
       "<function __main__.repeat_lyric_line()>"
      ]
     },
     "execution_count": 22,
     "metadata": {},
     "output_type": "execute_result"
    }
   ],
   "source": [
    "#chapter 4, exercise 3 - the function is now defined and is a function object which has type function\n",
    "\n",
    "def print_lyric_line():\n",
    "    print(\"I'm a lumberjack, and I'm okay.\")\n",
    "    print('I sleep all night and I work all day.')  \n",
    "\n",
    "def repeat_lyric_line():\n",
    "    print_lyric_line()\n",
    "    print_lyric_line()    \n",
    "    \n",
    "repeat_lyric_line"
   ]
  },
  {
   "cell_type": "code",
   "execution_count": 18,
   "id": "3d7317a2",
   "metadata": {},
   "outputs": [
    {
     "data": {
      "text/plain": [
       "function"
      ]
     },
     "execution_count": 18,
     "metadata": {},
     "output_type": "execute_result"
    }
   ],
   "source": [
    "type(repeat_lyric)"
   ]
  },
  {
   "cell_type": "code",
   "execution_count": 23,
   "id": "77a55d16",
   "metadata": {},
   "outputs": [
    {
     "name": "stdout",
     "output_type": "stream",
     "text": [
      "I'm a lumberjack, and I'm okay.\n",
      "I sleep all night and I work all day.\n",
      "I'm a lumberjack, and I'm okay.\n",
      "I sleep all night and I work all day.\n"
     ]
    }
   ],
   "source": [
    "#chapter 4, exercise 3 - showing what happens when order of functions is reversed \n",
    "#flow of execution is changed, but output is the same \n",
    "#function definitions do not alter the flow of execution\n",
    "\n",
    "def repeat_lyric_line():\n",
    "    print_lyric_line()\n",
    "    print_lyric_line()\n",
    "\n",
    "def print_lyric_line():\n",
    "    print(\"I'm a lumberjack, and I'm okay.\")\n",
    "    print('I sleep all night and I work all day.')\n",
    "\n",
    "repeat_lyric_line()"
   ]
  },
  {
   "cell_type": "code",
   "execution_count": 7,
   "id": "601c6cce",
   "metadata": {},
   "outputs": [
    {
     "name": "stdout",
     "output_type": "stream",
     "text": [
      "What do you earn per hour?\n",
      "forty\n",
      "Error: please enter only numbers.\n",
      "\n"
     ]
    }
   ],
   "source": [
    "#chapter 4, exercise 6.1 - using one function and try/except\n",
    "def computepay(rate, hours):\n",
    "\n",
    "    if hours > 40:\n",
    "        return (40 * rate) + ((hours - 40) * (rate * 1.5))\n",
    "\n",
    "    if hours <= 40:\n",
    "        return rate * hours\n",
    "\n",
    "try:\n",
    "    per_hour = input('What do you earn per hour?\\n')\n",
    "    rate = float(per_hour)\n",
    "    hours_worked = input('How many hours did you work?\\n')\n",
    "    hours = float(hours_worked)\n",
    "    earned =  computepay(rate, hours)\n",
    "    computepay(rate, hours)\n",
    "    print('Your pay for the week is: $', earned)\n",
    "except:\n",
    "    print('Error: please enter only numbers.\\n')"
   ]
  },
  {
   "cell_type": "code",
   "execution_count": 1,
   "id": "bb6199a8",
   "metadata": {},
   "outputs": [
    {
     "name": "stdout",
     "output_type": "stream",
     "text": [
      "What do you earn per hour?\n",
      "15\n",
      "How many hours did you work?\n",
      "65\n",
      "Your pay for the week is: $ 1162.5\n"
     ]
    }
   ],
   "source": [
    "#chapter 4, exercise 6.1 - using one function and try/except\n",
    "def computepay(rate, hours):\n",
    "\n",
    "    if hours > 40:\n",
    "        return (40 * rate) + ((hours - 40) * (rate * 1.5))\n",
    "\n",
    "    if hours <= 40:\n",
    "        return rate * hours\n",
    "\n",
    "try:\n",
    "    per_hour = input('What do you earn per hour?\\n')\n",
    "    rate = float(per_hour)\n",
    "    hours_worked = input('How many hours did you work?\\n')\n",
    "    hours = float(hours_worked)\n",
    "    earned =  computepay(rate, hours)\n",
    "    computepay(rate, hours)\n",
    "    print('Your pay for the week is: $', earned)\n",
    "except:\n",
    "    print('Error: please enter only numbers.\\n')"
   ]
  },
  {
   "cell_type": "code",
   "execution_count": 9,
   "id": "a9bc98e0",
   "metadata": {},
   "outputs": [
    {
     "name": "stdout",
     "output_type": "stream",
     "text": [
      "What do you earn per hour?\n",
      "forty\n",
      "Error: please only enter numbers.\n",
      "\n"
     ]
    }
   ],
   "source": [
    "#chapter 4, exercise 6.2 - using a nested function and try/except\n",
    "def computepay(rate, hours):\n",
    "    if hours > 40:\n",
    "        return (40 * rate) + (hours - 40) * (rate * 1.5)\n",
    "\n",
    "    if hours <= 40:\n",
    "        return rate * hours\n",
    "\n",
    "\n",
    "def payday():\n",
    "    try:\n",
    "        per_hour = input('What do you earn per hour?\\n')\n",
    "        rate = float(per_hour)\n",
    "        hours_worked = input('How many hours did you work?\\n')\n",
    "        hours = float(hours_worked)\n",
    "        pay =  computepay(rate, hours)\n",
    "        computepay(rate, hours)\n",
    "        print('Your pay this week is: $',pay)\n",
    "\n",
    "    except:\n",
    "        print('Error: please only enter numbers.\\n')\n",
    "\n",
    "payday()"
   ]
  },
  {
   "cell_type": "code",
   "execution_count": 2,
   "id": "3df8fdf0",
   "metadata": {},
   "outputs": [
    {
     "name": "stdout",
     "output_type": "stream",
     "text": [
      "What do you earn per hour?\n",
      "40\n",
      "How many hours did you work?\n",
      "25\n",
      "Your pay this week is: $ 1000.0\n"
     ]
    }
   ],
   "source": [
    "#chapter 4, exercise 6.2 - using a nested function and try/except\n",
    "def computepay(rate, hours):\n",
    "    if hours > 40:\n",
    "        return (40 * rate) + (hours - 40) * (rate * 1.5)\n",
    "\n",
    "    if hours <= 40:\n",
    "        return rate * hours\n",
    "\n",
    "\n",
    "def payday():\n",
    "    try:\n",
    "        per_hour = input('What do you earn per hour?\\n')\n",
    "        rate = float(per_hour)\n",
    "        hours_worked = input('How many hours did you work?\\n')\n",
    "        hours = float(hours_worked)\n",
    "        pay =  computepay(rate, hours)\n",
    "        computepay(rate, hours)\n",
    "        print('Your pay this week is: $',pay)\n",
    "\n",
    "    except:\n",
    "        print('Error: please only enter numbers.\\n')\n",
    "\n",
    "payday()"
   ]
  },
  {
   "cell_type": "code",
   "execution_count": 11,
   "id": "382c7c74",
   "metadata": {},
   "outputs": [
    {
     "name": "stdout",
     "output_type": "stream",
     "text": [
      "Please enter your test score as a decimal between 0.0 to 1.0.\n",
      "ninety-eight\n",
      "Error, You have entered an invalid score value. Please enter numeric input.\n",
      "\n"
     ]
    }
   ],
   "source": [
    "#chapter 4, exercise 7 - using a nested function and try/except\n",
    "def grade():\n",
    "    prompt_score = input('Please enter your test score as a decimal between 0.0 to 1.0.\\n')\n",
    "    test_score = float(prompt_score)\n",
    "    if test_score >= 0.9:\n",
    "        print('Your grade is an A.')\n",
    "    elif test_score >= 0.8:\n",
    "        print('Your grade is a B.')\n",
    "    elif test_score >= 0.7:\n",
    "        print('Your grade is a C.')\n",
    "    elif test_score >= 0.6:\n",
    "        print('Your grade is a D.')\n",
    "    elif test_score < 0.6:\n",
    "        print('Your grade is a F.')\n",
    "\n",
    "def computegrade():\n",
    "    try:\n",
    "        grade()\n",
    "    except:\n",
    "        print('Error, You have entered an invalid score value. Please enter numeric input.\\n')\n",
    "\n",
    "computegrade()"
   ]
  },
  {
   "cell_type": "code",
   "execution_count": 5,
   "id": "24601d44",
   "metadata": {},
   "outputs": [
    {
     "name": "stdout",
     "output_type": "stream",
     "text": [
      "Please enter your test score as a decimal between 0.0 to 1.0.\n",
      ".71\n",
      "Your grade is a C.\n"
     ]
    }
   ],
   "source": [
    "#chapter 4, exercise 7 - using a nested function and try/except\n",
    "def grade():\n",
    "    prompt_score = input('Please enter your test score as a decimal between 0.0 to 1.0.\\n')\n",
    "    test_score = float(prompt_score)\n",
    "    if test_score >= 0.9:\n",
    "        print('Your grade is an A.')\n",
    "    elif test_score >= 0.8:\n",
    "        print('Your grade is a B.')\n",
    "    elif test_score >= 0.7:\n",
    "        print('Your grade is a C.')\n",
    "    elif test_score >= 0.6:\n",
    "        print('Your grade is a D.')\n",
    "    elif test_score < 0.6:\n",
    "        print('Your grade is a F.')\n",
    "\n",
    "def computegrade():\n",
    "    try:\n",
    "        grade()\n",
    "    except:\n",
    "        print('Error, You have entered an invalid score value. Please enter numeric input.\\n')\n",
    "\n",
    "computegrade()"
   ]
  },
  {
   "cell_type": "code",
   "execution_count": 1,
   "id": "d20bd331",
   "metadata": {},
   "outputs": [
    {
     "name": "stdout",
     "output_type": "stream",
     "text": [
      "Enter a number or enter 'done' when finished:\n",
      "26.3\n",
      "Enter a number or enter 'done' when finished:\n",
      "37.8\n",
      "Enter a number or enter 'done' when finished:\n",
      "41\n",
      "Enter a number or enter 'done' when finished:\n",
      "52\n",
      "Enter a number or enter 'done' when finished:\n",
      "9.1\n",
      "Enter a number or enter 'done' when finished:\n",
      "done\n",
      "List: [26.3, 37.8, 41.0, 52.0, 9.1]\n",
      "Count: 5\n",
      "Total: 166.2\n",
      "Average: 33.239999999999995\n",
      "Maximum is 52.0\n",
      "Minimum is 9.1\n"
     ]
    }
   ],
   "source": [
    "#chapter 5, exercise 1 - function with nested loops and nested try/except function\n",
    "\n",
    "def check_for_float(input1, exit = True):\n",
    "    try:\n",
    "        value = float(input1)\n",
    "        return value\n",
    "    except (ValueError, TypeError):\n",
    "        print('Invalid input\\n')\n",
    "        if exit:\n",
    "            quit()\n",
    "        return False\n",
    "\n",
    "def number_list():\n",
    "    numlist = list()\n",
    "    while True:\n",
    "        inp = input(\"Enter a number or enter 'done' when finished:\\n\")\n",
    "        if inp == 'done':\n",
    "            break\n",
    "\n",
    "        number = check_for_float(inp, False)\n",
    "        if not number:\n",
    "            continue\n",
    "\n",
    "        number = float(inp)\n",
    "        numlist.append(number)\n",
    "        count = 0\n",
    "    for n in numlist:\n",
    "        count = count + 1\n",
    "        smallest = min(numlist)\n",
    "        largest = max(numlist)\n",
    "    total = sum(numlist)\n",
    "    average = total / count\n",
    "    print('List:', numlist)\n",
    "    print('Count:', count)\n",
    "    print('Total:', total)\n",
    "    print('Average:', average)\n",
    "    print('Maximum is', largest)\n",
    "    print('Minimum is', smallest)\n",
    "\n",
    "number_list()"
   ]
  },
  {
   "cell_type": "code",
   "execution_count": 2,
   "id": "eef1c6f1",
   "metadata": {},
   "outputs": [
    {
     "name": "stdout",
     "output_type": "stream",
     "text": [
      "Enter a number or enter 'done' when finished:\n",
      "13\n",
      "Enter a number or enter 'done' when finished:\n",
      "12.5\n",
      "Enter a number or enter 'done' when finished:\n",
      "9.6\n",
      "Enter a number or enter 'done' when finished:\n",
      "55\n",
      "Enter a number or enter 'done' when finished:\n",
      "2\n",
      "Enter a number or enter 'done' when finished:\n",
      "done\n",
      "Maximum: 55.0\n",
      "Minimum: 2.0\n"
     ]
    }
   ],
   "source": [
    "#chapter 5, exercise 2 - function with nested loops and nested try/except function; max and min functions not used \n",
    "\n",
    "def check_for_integer(input1, exit = True):\n",
    "    try:\n",
    "        value = float(input1)                   \n",
    "        return value\n",
    "    except (ValueError, TypeError):\n",
    "        print('Invalid input')\n",
    "        if exit:\n",
    "            quit()\n",
    "        return False\n",
    "\n",
    "def number_list():\n",
    "    numlist = list()\n",
    "    while True:\n",
    "        inp = input(\"Enter a number or enter 'done' when finished:\\n\")\n",
    "        if inp == 'done':\n",
    "            break\n",
    "\n",
    "        number = check_for_integer(inp, False)\n",
    "        if not number:\n",
    "            continue\n",
    "\n",
    "        number = float(inp)\n",
    "        numlist.append(number)\n",
    "        largest = None\n",
    "        smallest = None\n",
    "\n",
    "    for n in numlist:\n",
    "        if largest is None:\n",
    "            largest = n\n",
    "        elif n > largest:\n",
    "            largest = n\n",
    "        if smallest is None:\n",
    "            smallest = n\n",
    "        elif n < smallest:\n",
    "            smallest = n\n",
    "\n",
    "    print('Maximum:', largest)\n",
    "    print('Minimum:', smallest)\n",
    "\n",
    "number_list()"
   ]
  },
  {
   "cell_type": "code",
   "execution_count": null,
   "id": "7ca32b8d",
   "metadata": {},
   "outputs": [],
   "source": []
  }
 ],
 "metadata": {
  "kernelspec": {
   "display_name": "Python 3",
   "language": "python",
   "name": "python3"
  },
  "language_info": {
   "codemirror_mode": {
    "name": "ipython",
    "version": 3
   },
   "file_extension": ".py",
   "mimetype": "text/x-python",
   "name": "python",
   "nbconvert_exporter": "python",
   "pygments_lexer": "ipython3",
   "version": "3.8.8"
  }
 },
 "nbformat": 4,
 "nbformat_minor": 5
}
