{
 "cells": [
  {
   "cell_type": "code",
   "execution_count": 1,
   "id": "d7322371",
   "metadata": {},
   "outputs": [
    {
     "name": "stdout",
     "output_type": "stream",
     "text": [
      "What is your name?\n",
      "Houndboy\n",
      "Hello Houndboy\n"
     ]
    }
   ],
   "source": [
    "#chapter2, exercise 2\n",
    "name = input('What is your name?\\n')\n",
    "print('Hello', name)\n"
   ]
  },
  {
   "cell_type": "code",
   "execution_count": 2,
   "id": "1432c544",
   "metadata": {},
   "outputs": [
    {
     "name": "stdout",
     "output_type": "stream",
     "text": [
      "What do you earn per hour?\n",
      "10\n",
      "How many hours did you work?\n",
      "8.75\n",
      "Your pay this week is $ 87.5\n"
     ]
    }
   ],
   "source": [
    "#chapter 2, exercise 3\n",
    "prompt_pay = input('What do you earn per hour?\\n')\n",
    "pay = int(prompt_pay)\n",
    "prompt_hours = input('How many hours did you work?\\n')\n",
    "hours = float(prompt_hours)\n",
    "print('Your pay this week is $', pay * hours)\n"
   ]
  },
  {
   "cell_type": "code",
   "execution_count": 3,
   "id": "2f42ba24",
   "metadata": {},
   "outputs": [
    {
     "name": "stdout",
     "output_type": "stream",
     "text": [
      "0\n",
      "8.5\n",
      "4.0\n",
      "11\n"
     ]
    }
   ],
   "source": [
    "#chapter 2, exercise 4 \n",
    "\n",
    "#given the width and height, compute the following:\n",
    "width = 17\n",
    "height = 12\n",
    "\n",
    "quotient_1 = width//20\n",
    "print(quotient_1)\n",
    "\n",
    "quotient_2 = width/2.00\n",
    "print(quotient_2)\n",
    "\n",
    "quotient_3 = height/3\n",
    "print(quotient_3)\n",
    "\n",
    "operation_1 = 1 + 2 * 5\n",
    "print(operation_1)\n"
   ]
  },
  {
   "cell_type": "code",
   "execution_count": 12,
   "id": "27402491",
   "metadata": {},
   "outputs": [
    {
     "name": "stdout",
     "output_type": "stream",
     "text": [
      "What is the temperature in Celsius?\n",
      "0\n",
      "This Celsius temperature equals: 32.0 Fahrenheit.\n"
     ]
    }
   ],
   "source": [
    "#chapter 2, exercise 5\n",
    "prompt_temp = input('What is the temperature in Celsius?\\n')\n",
    "cel_temp = float(prompt_temp)\n",
    "print('This Celsius temperature equals:', cel_temp*1.8+32, 'Fahrenheit.' )\n"
   ]
  },
  {
   "cell_type": "code",
   "execution_count": 13,
   "id": "87311bd5",
   "metadata": {},
   "outputs": [
    {
     "name": "stdout",
     "output_type": "stream",
     "text": [
      "What do you earn per hour?\n",
      "10\n",
      "How many hours did you work?\n",
      "20\n",
      "Your pay this week is $ 200.0\n"
     ]
    }
   ],
   "source": [
    "#chapter 3, exercise 3.1 - using if, else\n",
    "per_hour = input('What do you earn per hour?\\n')\n",
    "\n",
    "hours_worked = input('How many hours did you work?\\n')\n",
    "\n",
    "rate = float(per_hour)\n",
    "time = float(hours_worked)\n",
    "\n",
    "if time <=  40:\n",
    "        earned_reg = (rate * time)\n",
    "        print('Your pay this week is $', earned_reg )\n",
    "\n",
    "else:\n",
    "    time > 40\n",
    "    total_earned = (time - 40) * (rate * 1.5) + (rate * 40)\n",
    "    print('Your pay this week is $', total_earned)\n"
   ]
  },
  {
   "cell_type": "code",
   "execution_count": 8,
   "id": "e04d4781",
   "metadata": {},
   "outputs": [
    {
     "name": "stdout",
     "output_type": "stream",
     "text": [
      "What do you earn per hour?\n",
      "10\n",
      "How many hours did you work?\n",
      "45\n",
      "Your pay this week is $ 475.0\n"
     ]
    }
   ],
   "source": [
    "#chapter 3, exercise 3.2 - using nested conditionals try and except and if and elif\n",
    "try:\n",
    "    per_hour = input('What do you earn per hour?\\n')\n",
    "    hours_worked = input('How many hours did you work?\\n')\n",
    "    rate = float(per_hour)\n",
    "    time = float(hours_worked)\n",
    "    if time <=  40:\n",
    "        earned_reg = (rate * time)\n",
    "        print('Your pay this week is $', earned_reg )\n",
    "\n",
    "    elif time > 40:\n",
    "        total_earned = (40 * rate) + (time - 40) * (rate * 1.5)\n",
    "        print('Your pay this week is $', total_earned)\n",
    "\n",
    "except:\n",
    "    print('You made an error. Please enter a numeric value.\\n')    \n"
   ]
  },
  {
   "cell_type": "code",
   "execution_count": 9,
   "id": "6274cf67",
   "metadata": {},
   "outputs": [
    {
     "name": "stdout",
     "output_type": "stream",
     "text": [
      "What do you earn per hour?\n",
      "10\n",
      "How many regular hours did you work?\n",
      "40\n",
      "How many over time hours did you work?\n",
      "10\n",
      "Your pay this week is $ 550.0\n"
     ]
    }
   ],
   "source": [
    "#chapter3, exercise 3.2\n",
    "prompt_pay = input('What do you earn per hour?\\n')\n",
    "reg_hours = input('How many regular hours did you work?\\n')\n",
    "prompt_ot = input('How many over time hours did you work?\\n')\n",
    "try:\n",
    "    rate = float(prompt_pay)\n",
    "    hours = float(reg_hours)\n",
    "    ot_rate = float(1.5)\n",
    "    ot = float(prompt_ot)\n",
    "    earned = (rate * hours) + (rate * ot_rate * ot)\n",
    "    print('Your pay this week is $', earned)\n",
    "except:\n",
    "    print('Please enter only numbers.')"
   ]
  },
  {
   "cell_type": "code",
   "execution_count": 3,
   "id": "743d5de2",
   "metadata": {},
   "outputs": [
    {
     "name": "stdout",
     "output_type": "stream",
     "text": [
      "What do you earn per hour?\n",
      "10\n",
      "How many regular hours did you work?\n",
      "40\n",
      "How many over time hours did you work?\n",
      "ten\n",
      "You made a mistake! Please enter only numbers.\n"
     ]
    }
   ],
   "source": [
    "#chapter3, exercise 3.2\n",
    "prompt_pay = input('What do you earn per hour?\\n')\n",
    "reg_hours = input('How many regular hours did you work?\\n')\n",
    "prompt_ot = input('How many over time hours did you work?\\n')\n",
    "try:\n",
    "    rate = float(prompt_pay)\n",
    "    hours = float(reg_hours)\n",
    "    ot_rate = float(1.5)\n",
    "    ot = float(prompt_ot)\n",
    "    earned = (rate * hours) + (rate * ot_rate * ot)\n",
    "    print('Your pay this week is $', earned)\n",
    "except:\n",
    "    print('You made a mistake! Please enter only numbers.')"
   ]
  },
  {
   "cell_type": "code",
   "execution_count": 8,
   "id": "43011098",
   "metadata": {},
   "outputs": [
    {
     "name": "stdout",
     "output_type": "stream",
     "text": [
      "Enter Score:.98\n",
      "Your grade is an A.\n"
     ]
    }
   ],
   "source": [
    "#chapter 3, exercise 3 - grade calculator using a nested conditional and catching an integer or string entry exception\n",
    "#The integer entry is caught by the if statement and the string entry is caught by the except condition.\n",
    "\n",
    "score = input('Enter Score:')\n",
    "try:\n",
    "    score = float(score)\n",
    "    if score > 1.0:\n",
    "        print('Please enter a decimal value for your score.\\n')\n",
    "    elif score >= 0.9 <= 1.0:\n",
    "        print('Your grade is an A.')\n",
    "    elif score >= 0.8 <= 0.89:\n",
    "        print('Your grade is a B.')\n",
    "    elif score >= 0.7 <= 0.79:\n",
    "        print('Your grade is a C.')\n",
    "    elif score >= 0.6 <= 0.69:\n",
    "        print('Your grade is a D.')\n",
    "    elif score >= 0.0 <= 0.59:\n",
    "        print('Your grade is a F.')\n",
    "except:\n",
    "    print('Error, You have entered an invalid score value. Please enter only a decimal value.\\n')"
   ]
  },
  {
   "cell_type": "code",
   "execution_count": 7,
   "id": "e65dc03e",
   "metadata": {},
   "outputs": [
    {
     "name": "stdout",
     "output_type": "stream",
     "text": [
      "Enter Score:ninety eight\n",
      "Error: You have entered an invalid score value. Please enter only a decimal value.\n",
      "\n"
     ]
    }
   ],
   "source": [
    "#chapter 3, exercise 3 \n",
    "score = input('Enter Score:')\n",
    "try:\n",
    "    score = float(score)\n",
    "    if score > 1.0:\n",
    "        print('Please enter a decimal value for your score.\\n')\n",
    "    elif score >= 0.9 <= 1.0:\n",
    "        print('Your grade is an A.')\n",
    "    elif score >= 0.8 <= 0.89:\n",
    "        print('Your grade is a B.')\n",
    "    elif score >= 0.7 <= 0.79:\n",
    "        print('Your grade is a C.')\n",
    "    elif score >= 0.6 <= 0.69:\n",
    "        print('Your grade is a D.')\n",
    "    elif score >= 0.0 <= 0.59:\n",
    "        print('Your grade is a F.')\n",
    "except:\n",
    "    print('Error: You have entered an invalid score value. Please enter only a decimal value.\\n')\n"
   ]
  },
  {
   "cell_type": "code",
   "execution_count": 11,
   "id": "0dccfbcc",
   "metadata": {},
   "outputs": [
    {
     "name": "stdout",
     "output_type": "stream",
     "text": [
      "Enter Score:98\n",
      "Error: You have entered a non-decimal value. Please enter a decimal value for your score.\n",
      "\n"
     ]
    }
   ],
   "source": [
    "#chapter 3, exercise 3 \n",
    "score = input('Enter Score:')\n",
    "try:\n",
    "    score = float(score)\n",
    "    if score > 1.0:\n",
    "        print('Error: You have entered a non-decimal value. Please enter a decimal value for your score.\\n')\n",
    "    elif score >= 0.9 <= 1.0:\n",
    "        print('Your grade is an A.')\n",
    "    elif score >= 0.8 <= 0.89:\n",
    "        print('Your grade is a B.')\n",
    "    elif score >= 0.7 <= 0.79:\n",
    "        print('Your grade is a C.')\n",
    "    elif score >= 0.6 <= 0.69:\n",
    "        print('Your grade is a D.')\n",
    "    elif score >= 0.0 <= 0.59:\n",
    "        print('Your grade is a F.')\n",
    "except:\n",
    "    print('Error: You have entered an invalid score value. Please enter only a decimal value.\\n')"
   ]
  },
  {
   "cell_type": "code",
   "execution_count": null,
   "id": "627f3aa3",
   "metadata": {},
   "outputs": [],
   "source": []
  }
 ],
 "metadata": {
  "kernelspec": {
   "display_name": "Python 3",
   "language": "python",
   "name": "python3"
  },
  "language_info": {
   "codemirror_mode": {
    "name": "ipython",
    "version": 3
   },
   "file_extension": ".py",
   "mimetype": "text/x-python",
   "name": "python",
   "nbconvert_exporter": "python",
   "pygments_lexer": "ipython3",
   "version": "3.8.8"
  }
 },
 "nbformat": 4,
 "nbformat_minor": 5
}
